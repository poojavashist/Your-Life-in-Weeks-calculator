{
 "cells": [
  {
   "cell_type": "markdown",
   "metadata": {},
   "source": [
    "Create a program using maths and f-Strings that tells us how many days, weeks, months we have left if we live until 90 years old. \n",
    "\n",
    "It will take your current age as the input and output a message with our time left in this format:\n",
    "\n",
    "> You have x days, y weeks, and z months left. \n",
    "\n",
    "Where x, y and z are replaced with the actual calculated numbers. \n",
    "\n"
   ]
  },
  {
   "cell_type": "code",
   "execution_count": 20,
   "metadata": {},
   "outputs": [
    {
     "name": "stdout",
     "output_type": "stream",
     "text": [
      "what is your age?:38\n",
      "You have 18980 days, 2704 weeks, and 624 months left.\n"
     ]
    }
   ],
   "source": [
    "age =input(\"what is your age?:\")\n",
    "age_as_int= int(age)\n",
    "\n",
    "years = 90 - int(age)\n",
    "months = round(years * 12)\n",
    "weeks = round(years * 52)\n",
    "days = round(years * 365)\n",
    "Result= (f\"You have {days} days, {weeks} weeks, and {months} months left.\")\n",
    "print(Result)"
   ]
  },
  {
   "cell_type": "code",
   "execution_count": null,
   "metadata": {},
   "outputs": [],
   "source": []
  },
  {
   "cell_type": "code",
   "execution_count": null,
   "metadata": {},
   "outputs": [],
   "source": []
  }
 ],
 "metadata": {
  "kernelspec": {
   "display_name": "Python 3",
   "language": "python",
   "name": "python3"
  },
  "language_info": {
   "codemirror_mode": {
    "name": "ipython",
    "version": 3
   },
   "file_extension": ".py",
   "mimetype": "text/x-python",
   "name": "python",
   "nbconvert_exporter": "python",
   "pygments_lexer": "ipython3",
   "version": "3.8.3"
  }
 },
 "nbformat": 4,
 "nbformat_minor": 4
}
